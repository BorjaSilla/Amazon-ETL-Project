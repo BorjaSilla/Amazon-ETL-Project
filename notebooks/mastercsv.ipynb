{
 "cells": [
  {
   "cell_type": "code",
   "execution_count": 17,
   "metadata": {},
   "outputs": [
    {
     "name": "stderr",
     "output_type": "stream",
     "text": [
      "/var/folders/f2/ty6sgcw911g2_3vqhhq561vm0000gn/T/ipykernel_51890/2147863282.py:23: FutureWarning:\n",
      "\n",
      "The frame.append method is deprecated and will be removed from pandas in a future version. Use pandas.concat instead.\n",
      "\n",
      "/var/folders/f2/ty6sgcw911g2_3vqhhq561vm0000gn/T/ipykernel_51890/2147863282.py:23: FutureWarning:\n",
      "\n",
      "The frame.append method is deprecated and will be removed from pandas in a future version. Use pandas.concat instead.\n",
      "\n",
      "/var/folders/f2/ty6sgcw911g2_3vqhhq561vm0000gn/T/ipykernel_51890/2147863282.py:23: FutureWarning:\n",
      "\n",
      "The frame.append method is deprecated and will be removed from pandas in a future version. Use pandas.concat instead.\n",
      "\n",
      "/var/folders/f2/ty6sgcw911g2_3vqhhq561vm0000gn/T/ipykernel_51890/2147863282.py:23: FutureWarning:\n",
      "\n",
      "The frame.append method is deprecated and will be removed from pandas in a future version. Use pandas.concat instead.\n",
      "\n",
      "/var/folders/f2/ty6sgcw911g2_3vqhhq561vm0000gn/T/ipykernel_51890/2147863282.py:23: FutureWarning:\n",
      "\n",
      "The frame.append method is deprecated and will be removed from pandas in a future version. Use pandas.concat instead.\n",
      "\n",
      "/var/folders/f2/ty6sgcw911g2_3vqhhq561vm0000gn/T/ipykernel_51890/2147863282.py:23: FutureWarning:\n",
      "\n",
      "The frame.append method is deprecated and will be removed from pandas in a future version. Use pandas.concat instead.\n",
      "\n",
      "/var/folders/f2/ty6sgcw911g2_3vqhhq561vm0000gn/T/ipykernel_51890/2147863282.py:23: FutureWarning:\n",
      "\n",
      "The frame.append method is deprecated and will be removed from pandas in a future version. Use pandas.concat instead.\n",
      "\n",
      "/var/folders/f2/ty6sgcw911g2_3vqhhq561vm0000gn/T/ipykernel_51890/2147863282.py:23: FutureWarning:\n",
      "\n",
      "The frame.append method is deprecated and will be removed from pandas in a future version. Use pandas.concat instead.\n",
      "\n",
      "/var/folders/f2/ty6sgcw911g2_3vqhhq561vm0000gn/T/ipykernel_51890/2147863282.py:23: FutureWarning:\n",
      "\n",
      "The frame.append method is deprecated and will be removed from pandas in a future version. Use pandas.concat instead.\n",
      "\n",
      "/var/folders/f2/ty6sgcw911g2_3vqhhq561vm0000gn/T/ipykernel_51890/2147863282.py:23: FutureWarning:\n",
      "\n",
      "The frame.append method is deprecated and will be removed from pandas in a future version. Use pandas.concat instead.\n",
      "\n",
      "/var/folders/f2/ty6sgcw911g2_3vqhhq561vm0000gn/T/ipykernel_51890/2147863282.py:23: FutureWarning:\n",
      "\n",
      "The frame.append method is deprecated and will be removed from pandas in a future version. Use pandas.concat instead.\n",
      "\n",
      "/var/folders/f2/ty6sgcw911g2_3vqhhq561vm0000gn/T/ipykernel_51890/2147863282.py:23: FutureWarning:\n",
      "\n",
      "The frame.append method is deprecated and will be removed from pandas in a future version. Use pandas.concat instead.\n",
      "\n",
      "/var/folders/f2/ty6sgcw911g2_3vqhhq561vm0000gn/T/ipykernel_51890/2147863282.py:23: FutureWarning:\n",
      "\n",
      "The frame.append method is deprecated and will be removed from pandas in a future version. Use pandas.concat instead.\n",
      "\n",
      "/var/folders/f2/ty6sgcw911g2_3vqhhq561vm0000gn/T/ipykernel_51890/2147863282.py:23: FutureWarning:\n",
      "\n",
      "The frame.append method is deprecated and will be removed from pandas in a future version. Use pandas.concat instead.\n",
      "\n",
      "/var/folders/f2/ty6sgcw911g2_3vqhhq561vm0000gn/T/ipykernel_51890/2147863282.py:23: FutureWarning:\n",
      "\n",
      "The frame.append method is deprecated and will be removed from pandas in a future version. Use pandas.concat instead.\n",
      "\n",
      "/var/folders/f2/ty6sgcw911g2_3vqhhq561vm0000gn/T/ipykernel_51890/2147863282.py:23: FutureWarning:\n",
      "\n",
      "The frame.append method is deprecated and will be removed from pandas in a future version. Use pandas.concat instead.\n",
      "\n",
      "/var/folders/f2/ty6sgcw911g2_3vqhhq561vm0000gn/T/ipykernel_51890/2147863282.py:23: FutureWarning:\n",
      "\n",
      "The frame.append method is deprecated and will be removed from pandas in a future version. Use pandas.concat instead.\n",
      "\n",
      "/var/folders/f2/ty6sgcw911g2_3vqhhq561vm0000gn/T/ipykernel_51890/2147863282.py:23: FutureWarning:\n",
      "\n",
      "The frame.append method is deprecated and will be removed from pandas in a future version. Use pandas.concat instead.\n",
      "\n",
      "/var/folders/f2/ty6sgcw911g2_3vqhhq561vm0000gn/T/ipykernel_51890/2147863282.py:23: FutureWarning:\n",
      "\n",
      "The frame.append method is deprecated and will be removed from pandas in a future version. Use pandas.concat instead.\n",
      "\n",
      "/var/folders/f2/ty6sgcw911g2_3vqhhq561vm0000gn/T/ipykernel_51890/2147863282.py:23: FutureWarning:\n",
      "\n",
      "The frame.append method is deprecated and will be removed from pandas in a future version. Use pandas.concat instead.\n",
      "\n",
      "/var/folders/f2/ty6sgcw911g2_3vqhhq561vm0000gn/T/ipykernel_51890/2147863282.py:23: FutureWarning:\n",
      "\n",
      "The frame.append method is deprecated and will be removed from pandas in a future version. Use pandas.concat instead.\n",
      "\n",
      "/var/folders/f2/ty6sgcw911g2_3vqhhq561vm0000gn/T/ipykernel_51890/2147863282.py:23: FutureWarning:\n",
      "\n",
      "The frame.append method is deprecated and will be removed from pandas in a future version. Use pandas.concat instead.\n",
      "\n",
      "/var/folders/f2/ty6sgcw911g2_3vqhhq561vm0000gn/T/ipykernel_51890/2147863282.py:23: FutureWarning:\n",
      "\n",
      "The frame.append method is deprecated and will be removed from pandas in a future version. Use pandas.concat instead.\n",
      "\n",
      "/var/folders/f2/ty6sgcw911g2_3vqhhq561vm0000gn/T/ipykernel_51890/2147863282.py:23: FutureWarning:\n",
      "\n",
      "The frame.append method is deprecated and will be removed from pandas in a future version. Use pandas.concat instead.\n",
      "\n",
      "/var/folders/f2/ty6sgcw911g2_3vqhhq561vm0000gn/T/ipykernel_51890/2147863282.py:23: FutureWarning:\n",
      "\n",
      "The frame.append method is deprecated and will be removed from pandas in a future version. Use pandas.concat instead.\n",
      "\n",
      "/var/folders/f2/ty6sgcw911g2_3vqhhq561vm0000gn/T/ipykernel_51890/2147863282.py:23: FutureWarning:\n",
      "\n",
      "The frame.append method is deprecated and will be removed from pandas in a future version. Use pandas.concat instead.\n",
      "\n",
      "/var/folders/f2/ty6sgcw911g2_3vqhhq561vm0000gn/T/ipykernel_51890/2147863282.py:23: FutureWarning:\n",
      "\n",
      "The frame.append method is deprecated and will be removed from pandas in a future version. Use pandas.concat instead.\n",
      "\n",
      "/var/folders/f2/ty6sgcw911g2_3vqhhq561vm0000gn/T/ipykernel_51890/2147863282.py:23: FutureWarning:\n",
      "\n",
      "The frame.append method is deprecated and will be removed from pandas in a future version. Use pandas.concat instead.\n",
      "\n",
      "/var/folders/f2/ty6sgcw911g2_3vqhhq561vm0000gn/T/ipykernel_51890/2147863282.py:23: FutureWarning:\n",
      "\n",
      "The frame.append method is deprecated and will be removed from pandas in a future version. Use pandas.concat instead.\n",
      "\n",
      "/var/folders/f2/ty6sgcw911g2_3vqhhq561vm0000gn/T/ipykernel_51890/2147863282.py:23: FutureWarning:\n",
      "\n",
      "The frame.append method is deprecated and will be removed from pandas in a future version. Use pandas.concat instead.\n",
      "\n",
      "/var/folders/f2/ty6sgcw911g2_3vqhhq561vm0000gn/T/ipykernel_51890/2147863282.py:23: FutureWarning:\n",
      "\n",
      "The frame.append method is deprecated and will be removed from pandas in a future version. Use pandas.concat instead.\n",
      "\n",
      "/var/folders/f2/ty6sgcw911g2_3vqhhq561vm0000gn/T/ipykernel_51890/2147863282.py:23: FutureWarning:\n",
      "\n",
      "The frame.append method is deprecated and will be removed from pandas in a future version. Use pandas.concat instead.\n",
      "\n"
     ]
    }
   ],
   "source": [
    "import pandas as pd\n",
    "import glob\n",
    "\n",
    "# Create an empty DataFrame to store the merged data\n",
    "master = pd.DataFrame()\n",
    "\n",
    "# Specify the folder where your CSV files are located\n",
    "folder_path = '../scrape_data/'\n",
    "\n",
    "# Use glob to get a list of CSV files in the folder\n",
    "csv_files = glob.glob(f\"{folder_path}/*.csv\")\n",
    "\n",
    "# Loop through the CSV files and read and append the data to the merged DataFrame\n",
    "for csv_file in csv_files:\n",
    "    # Extract the category name from the CSV file name\n",
    "    category = csv_file.split('/')[-1].split('_')[0]\n",
    "    \n",
    "    df = pd.read_csv(csv_file)\n",
    "    \n",
    "    # Add a 'category' column with the category name\n",
    "    df['category'] = category\n",
    "    \n",
    "    master = master.append(df, ignore_index=True)\n",
    "\n",
    "# Save the merged data to a new CSV file\n",
    "master.to_csv(\"../scrape_data/master/master.csv\", index=False)\n",
    "\n"
   ]
  },
  {
   "cell_type": "code",
   "execution_count": 18,
   "metadata": {},
   "outputs": [],
   "source": [
    "import pandas as pd\n",
    "df = pd.read_csv('../scrape_data/master/master.csv')"
   ]
  },
  {
   "cell_type": "code",
   "execution_count": 19,
   "metadata": {},
   "outputs": [
    {
     "data": {
      "text/html": [
       "<div>\n",
       "<style scoped>\n",
       "    .dataframe tbody tr th:only-of-type {\n",
       "        vertical-align: middle;\n",
       "    }\n",
       "\n",
       "    .dataframe tbody tr th {\n",
       "        vertical-align: top;\n",
       "    }\n",
       "\n",
       "    .dataframe thead th {\n",
       "        text-align: right;\n",
       "    }\n",
       "</style>\n",
       "<table border=\"1\" class=\"dataframe\">\n",
       "  <thead>\n",
       "    <tr style=\"text-align: right;\">\n",
       "      <th></th>\n",
       "      <th>asin</th>\n",
       "      <th>title</th>\n",
       "      <th>price</th>\n",
       "      <th>rating</th>\n",
       "      <th>num_reviews</th>\n",
       "      <th>img_link</th>\n",
       "      <th>category</th>\n",
       "    </tr>\n",
       "  </thead>\n",
       "  <tbody>\n",
       "    <tr>\n",
       "      <th>0</th>\n",
       "      <td>B07Y53N2GW</td>\n",
       "      <td>Beautural Quitapelusas Electrico de Ropa, Remo...</td>\n",
       "      <td>27.99</td>\n",
       "      <td>4.5</td>\n",
       "      <td>5.142</td>\n",
       "      <td>https://images-eu.ssl-images-amazon.com/images...</td>\n",
       "      <td>kitchen</td>\n",
       "    </tr>\n",
       "    <tr>\n",
       "      <th>1</th>\n",
       "      <td>B00E3862DE</td>\n",
       "      <td>Philips Domestic Appliances GC026/00 Quitapelu...</td>\n",
       "      <td>10.44</td>\n",
       "      <td>4.6</td>\n",
       "      <td>111.704</td>\n",
       "      <td>https://images-eu.ssl-images-amazon.com/images...</td>\n",
       "      <td>kitchen</td>\n",
       "    </tr>\n",
       "    <tr>\n",
       "      <th>2</th>\n",
       "      <td>B0BPYVNW3L</td>\n",
       "      <td>Cecotec Freidora sin Aceite 6 L de Aire Calien...</td>\n",
       "      <td>69.00</td>\n",
       "      <td>4.5</td>\n",
       "      <td>5.505</td>\n",
       "      <td>https://images-eu.ssl-images-amazon.com/images...</td>\n",
       "      <td>kitchen</td>\n",
       "    </tr>\n",
       "    <tr>\n",
       "      <th>3</th>\n",
       "      <td>B00MFEHQMO</td>\n",
       "      <td>Rowenta Comfort Compact SO2320 - Calefactor 20...</td>\n",
       "      <td>41.99</td>\n",
       "      <td>4.3</td>\n",
       "      <td>21.671</td>\n",
       "      <td>https://images-eu.ssl-images-amazon.com/images...</td>\n",
       "      <td>kitchen</td>\n",
       "    </tr>\n",
       "    <tr>\n",
       "      <th>4</th>\n",
       "      <td>B07YFPZTY6</td>\n",
       "      <td>Cecotec Microondas ProClean 2010. 700 W de Pot...</td>\n",
       "      <td>49.90</td>\n",
       "      <td>4.0</td>\n",
       "      <td>14.613</td>\n",
       "      <td>https://images-eu.ssl-images-amazon.com/images...</td>\n",
       "      <td>kitchen</td>\n",
       "    </tr>\n",
       "  </tbody>\n",
       "</table>\n",
       "</div>"
      ],
      "text/plain": [
       "         asin                                              title  price  \\\n",
       "0  B07Y53N2GW  Beautural Quitapelusas Electrico de Ropa, Remo...  27.99   \n",
       "1  B00E3862DE  Philips Domestic Appliances GC026/00 Quitapelu...  10.44   \n",
       "2  B0BPYVNW3L  Cecotec Freidora sin Aceite 6 L de Aire Calien...  69.00   \n",
       "3  B00MFEHQMO  Rowenta Comfort Compact SO2320 - Calefactor 20...  41.99   \n",
       "4  B07YFPZTY6  Cecotec Microondas ProClean 2010. 700 W de Pot...  49.90   \n",
       "\n",
       "   rating num_reviews                                           img_link  \\\n",
       "0     4.5       5.142  https://images-eu.ssl-images-amazon.com/images...   \n",
       "1     4.6     111.704  https://images-eu.ssl-images-amazon.com/images...   \n",
       "2     4.5       5.505  https://images-eu.ssl-images-amazon.com/images...   \n",
       "3     4.3      21.671  https://images-eu.ssl-images-amazon.com/images...   \n",
       "4     4.0      14.613  https://images-eu.ssl-images-amazon.com/images...   \n",
       "\n",
       "  category  \n",
       "0  kitchen  \n",
       "1  kitchen  \n",
       "2  kitchen  \n",
       "3  kitchen  \n",
       "4  kitchen  "
      ]
     },
     "execution_count": 19,
     "metadata": {},
     "output_type": "execute_result"
    }
   ],
   "source": [
    "df.head()"
   ]
  },
  {
   "cell_type": "code",
   "execution_count": 20,
   "metadata": {},
   "outputs": [
    {
     "data": {
      "text/plain": [
       "37.56202875898719"
      ]
     },
     "execution_count": 20,
     "metadata": {},
     "output_type": "execute_result"
    }
   ],
   "source": [
    "df.price.mean()"
   ]
  },
  {
   "cell_type": "code",
   "execution_count": 21,
   "metadata": {},
   "outputs": [
    {
     "name": "stderr",
     "output_type": "stream",
     "text": [
      "/var/folders/f2/ty6sgcw911g2_3vqhhq561vm0000gn/T/ipykernel_51890/3749287162.py:1: FutureWarning:\n",
      "\n",
      "The default value of regex will change from True to False in a future version. In addition, single character regular expressions will *not* be treated as literal strings when regex=True.\n",
      "\n"
     ]
    }
   ],
   "source": [
    "df['num_reviews'] = df['num_reviews'].str.replace('.', '').astype(int)\n"
   ]
  },
  {
   "cell_type": "code",
   "execution_count": 22,
   "metadata": {},
   "outputs": [
    {
     "data": {
      "text/plain": [
       "9631.984057517975"
      ]
     },
     "execution_count": 22,
     "metadata": {},
     "output_type": "execute_result"
    }
   ],
   "source": [
    "df.num_reviews.mean()"
   ]
  },
  {
   "cell_type": "code",
   "execution_count": 23,
   "metadata": {},
   "outputs": [
    {
     "data": {
      "text/plain": [
       "4.279212253829322"
      ]
     },
     "execution_count": 23,
     "metadata": {},
     "output_type": "execute_result"
    }
   ],
   "source": [
    "df.rating.mean()"
   ]
  },
  {
   "cell_type": "code",
   "execution_count": 24,
   "metadata": {},
   "outputs": [
    {
     "data": {
      "text/plain": [
       "16.99"
      ]
     },
     "execution_count": 24,
     "metadata": {},
     "output_type": "execute_result"
    }
   ],
   "source": [
    "df.price.median()"
   ]
  },
  {
   "cell_type": "code",
   "execution_count": 11,
   "metadata": {},
   "outputs": [
    {
     "data": {
      "text/html": [
       "<div>\n",
       "<style scoped>\n",
       "    .dataframe tbody tr th:only-of-type {\n",
       "        vertical-align: middle;\n",
       "    }\n",
       "\n",
       "    .dataframe tbody tr th {\n",
       "        vertical-align: top;\n",
       "    }\n",
       "\n",
       "    .dataframe thead th {\n",
       "        text-align: right;\n",
       "    }\n",
       "</style>\n",
       "<table border=\"1\" class=\"dataframe\">\n",
       "  <thead>\n",
       "    <tr style=\"text-align: right;\">\n",
       "      <th></th>\n",
       "      <th>price</th>\n",
       "      <th>rating</th>\n",
       "      <th>num_reviews</th>\n",
       "    </tr>\n",
       "  </thead>\n",
       "  <tbody>\n",
       "    <tr>\n",
       "      <th>count</th>\n",
       "      <td>3199.000000</td>\n",
       "      <td>3199.000000</td>\n",
       "      <td>3.199000e+03</td>\n",
       "    </tr>\n",
       "    <tr>\n",
       "      <th>mean</th>\n",
       "      <td>37.562029</td>\n",
       "      <td>4.279212</td>\n",
       "      <td>9.631984e+03</td>\n",
       "    </tr>\n",
       "    <tr>\n",
       "      <th>std</th>\n",
       "      <td>72.909298</td>\n",
       "      <td>0.844322</td>\n",
       "      <td>5.243950e+04</td>\n",
       "    </tr>\n",
       "    <tr>\n",
       "      <th>min</th>\n",
       "      <td>0.000000</td>\n",
       "      <td>0.000000</td>\n",
       "      <td>0.000000e+00</td>\n",
       "    </tr>\n",
       "    <tr>\n",
       "      <th>25%</th>\n",
       "      <td>9.295000</td>\n",
       "      <td>4.300000</td>\n",
       "      <td>1.162000e+03</td>\n",
       "    </tr>\n",
       "    <tr>\n",
       "      <th>50%</th>\n",
       "      <td>16.990000</td>\n",
       "      <td>4.500000</td>\n",
       "      <td>3.030000e+03</td>\n",
       "    </tr>\n",
       "    <tr>\n",
       "      <th>75%</th>\n",
       "      <td>31.975000</td>\n",
       "      <td>4.600000</td>\n",
       "      <td>7.190000e+03</td>\n",
       "    </tr>\n",
       "    <tr>\n",
       "      <th>max</th>\n",
       "      <td>1029.000000</td>\n",
       "      <td>5.000000</td>\n",
       "      <td>1.369803e+06</td>\n",
       "    </tr>\n",
       "  </tbody>\n",
       "</table>\n",
       "</div>"
      ],
      "text/plain": [
       "             price       rating   num_reviews\n",
       "count  3199.000000  3199.000000  3.199000e+03\n",
       "mean     37.562029     4.279212  9.631984e+03\n",
       "std      72.909298     0.844322  5.243950e+04\n",
       "min       0.000000     0.000000  0.000000e+00\n",
       "25%       9.295000     4.300000  1.162000e+03\n",
       "50%      16.990000     4.500000  3.030000e+03\n",
       "75%      31.975000     4.600000  7.190000e+03\n",
       "max    1029.000000     5.000000  1.369803e+06"
      ]
     },
     "execution_count": 11,
     "metadata": {},
     "output_type": "execute_result"
    }
   ],
   "source": [
    "df.describe()"
   ]
  },
  {
   "cell_type": "code",
   "execution_count": 12,
   "metadata": {},
   "outputs": [
    {
     "data": {
      "application/vnd.plotly.v1+json": {
       "config": {
        "plotlyServerURL": "https://plot.ly"
       },
       "data": [
        {
         "alignmentgroup": "True",
         "hovertemplate": "Categories=%{x}<br>Mean Price (EUR)=%{y}<extra></extra>",
         "legendgroup": "",
         "marker": {
          "color": "#636efa",
          "pattern": {
           "shape": ""
          }
         },
         "name": "",
         "offsetgroup": "",
         "orientation": "v",
         "showlegend": false,
         "text": [
          228.5,
          100,
          69.99,
          34.99,
          33.165,
          30.99,
          24.625,
          24.314999999999998,
          19.99,
          19.99,
          19.99,
          17.119999999999997,
          17,
          16.740000000000002,
          16.729999999999997,
          16.52,
          16.06,
          15.815000000000001,
          15.45,
          15.415,
          15.15,
          14.945,
          14.925,
          14.805,
          14.42,
          14.245000000000001,
          12.99,
          12.850000000000001,
          9.99,
          9.82,
          4.51,
          3.79
         ],
         "textposition": "outside",
         "texttemplate": "%{text:.2f}",
         "type": "bar",
         "x": [
          "amazon-renewed",
          "gift-cards",
          "amazon-devices",
          "software",
          "computers",
          "videogames",
          "appliances",
          "kitchen",
          "toys",
          "fashion",
          "music",
          "boost",
          "dvd",
          "lighting",
          "pet-supplies",
          "hpc",
          "industrial",
          "automotive",
          "musical-instruments",
          "electronics",
          "books",
          "baby",
          "handmade",
          "climate-pledge",
          "sports",
          "lawn-garden",
          "grocery",
          "beauty",
          "office",
          "tools",
          "mobile-apps",
          "digital-text"
         ],
         "xaxis": "x",
         "y": [
          228.5,
          100,
          69.99,
          34.99,
          33.165,
          30.99,
          24.625,
          24.314999999999998,
          19.99,
          19.99,
          19.99,
          17.119999999999997,
          17,
          16.740000000000002,
          16.729999999999997,
          16.52,
          16.06,
          15.815000000000001,
          15.45,
          15.415,
          15.15,
          14.945,
          14.925,
          14.805,
          14.42,
          14.245000000000001,
          12.99,
          12.850000000000001,
          9.99,
          9.82,
          4.51,
          3.79
         ],
         "yaxis": "y"
        }
       ],
       "layout": {
        "barmode": "relative",
        "height": 600,
        "legend": {
         "tracegroupgap": 0
        },
        "template": {
         "data": {
          "bar": [
           {
            "error_x": {
             "color": "#2a3f5f"
            },
            "error_y": {
             "color": "#2a3f5f"
            },
            "marker": {
             "line": {
              "color": "#E5ECF6",
              "width": 0.5
             },
             "pattern": {
              "fillmode": "overlay",
              "size": 10,
              "solidity": 0.2
             }
            },
            "type": "bar"
           }
          ],
          "barpolar": [
           {
            "marker": {
             "line": {
              "color": "#E5ECF6",
              "width": 0.5
             },
             "pattern": {
              "fillmode": "overlay",
              "size": 10,
              "solidity": 0.2
             }
            },
            "type": "barpolar"
           }
          ],
          "carpet": [
           {
            "aaxis": {
             "endlinecolor": "#2a3f5f",
             "gridcolor": "white",
             "linecolor": "white",
             "minorgridcolor": "white",
             "startlinecolor": "#2a3f5f"
            },
            "baxis": {
             "endlinecolor": "#2a3f5f",
             "gridcolor": "white",
             "linecolor": "white",
             "minorgridcolor": "white",
             "startlinecolor": "#2a3f5f"
            },
            "type": "carpet"
           }
          ],
          "choropleth": [
           {
            "colorbar": {
             "outlinewidth": 0,
             "ticks": ""
            },
            "type": "choropleth"
           }
          ],
          "contour": [
           {
            "colorbar": {
             "outlinewidth": 0,
             "ticks": ""
            },
            "colorscale": [
             [
              0,
              "#0d0887"
             ],
             [
              0.1111111111111111,
              "#46039f"
             ],
             [
              0.2222222222222222,
              "#7201a8"
             ],
             [
              0.3333333333333333,
              "#9c179e"
             ],
             [
              0.4444444444444444,
              "#bd3786"
             ],
             [
              0.5555555555555556,
              "#d8576b"
             ],
             [
              0.6666666666666666,
              "#ed7953"
             ],
             [
              0.7777777777777778,
              "#fb9f3a"
             ],
             [
              0.8888888888888888,
              "#fdca26"
             ],
             [
              1,
              "#f0f921"
             ]
            ],
            "type": "contour"
           }
          ],
          "contourcarpet": [
           {
            "colorbar": {
             "outlinewidth": 0,
             "ticks": ""
            },
            "type": "contourcarpet"
           }
          ],
          "heatmap": [
           {
            "colorbar": {
             "outlinewidth": 0,
             "ticks": ""
            },
            "colorscale": [
             [
              0,
              "#0d0887"
             ],
             [
              0.1111111111111111,
              "#46039f"
             ],
             [
              0.2222222222222222,
              "#7201a8"
             ],
             [
              0.3333333333333333,
              "#9c179e"
             ],
             [
              0.4444444444444444,
              "#bd3786"
             ],
             [
              0.5555555555555556,
              "#d8576b"
             ],
             [
              0.6666666666666666,
              "#ed7953"
             ],
             [
              0.7777777777777778,
              "#fb9f3a"
             ],
             [
              0.8888888888888888,
              "#fdca26"
             ],
             [
              1,
              "#f0f921"
             ]
            ],
            "type": "heatmap"
           }
          ],
          "heatmapgl": [
           {
            "colorbar": {
             "outlinewidth": 0,
             "ticks": ""
            },
            "colorscale": [
             [
              0,
              "#0d0887"
             ],
             [
              0.1111111111111111,
              "#46039f"
             ],
             [
              0.2222222222222222,
              "#7201a8"
             ],
             [
              0.3333333333333333,
              "#9c179e"
             ],
             [
              0.4444444444444444,
              "#bd3786"
             ],
             [
              0.5555555555555556,
              "#d8576b"
             ],
             [
              0.6666666666666666,
              "#ed7953"
             ],
             [
              0.7777777777777778,
              "#fb9f3a"
             ],
             [
              0.8888888888888888,
              "#fdca26"
             ],
             [
              1,
              "#f0f921"
             ]
            ],
            "type": "heatmapgl"
           }
          ],
          "histogram": [
           {
            "marker": {
             "pattern": {
              "fillmode": "overlay",
              "size": 10,
              "solidity": 0.2
             }
            },
            "type": "histogram"
           }
          ],
          "histogram2d": [
           {
            "colorbar": {
             "outlinewidth": 0,
             "ticks": ""
            },
            "colorscale": [
             [
              0,
              "#0d0887"
             ],
             [
              0.1111111111111111,
              "#46039f"
             ],
             [
              0.2222222222222222,
              "#7201a8"
             ],
             [
              0.3333333333333333,
              "#9c179e"
             ],
             [
              0.4444444444444444,
              "#bd3786"
             ],
             [
              0.5555555555555556,
              "#d8576b"
             ],
             [
              0.6666666666666666,
              "#ed7953"
             ],
             [
              0.7777777777777778,
              "#fb9f3a"
             ],
             [
              0.8888888888888888,
              "#fdca26"
             ],
             [
              1,
              "#f0f921"
             ]
            ],
            "type": "histogram2d"
           }
          ],
          "histogram2dcontour": [
           {
            "colorbar": {
             "outlinewidth": 0,
             "ticks": ""
            },
            "colorscale": [
             [
              0,
              "#0d0887"
             ],
             [
              0.1111111111111111,
              "#46039f"
             ],
             [
              0.2222222222222222,
              "#7201a8"
             ],
             [
              0.3333333333333333,
              "#9c179e"
             ],
             [
              0.4444444444444444,
              "#bd3786"
             ],
             [
              0.5555555555555556,
              "#d8576b"
             ],
             [
              0.6666666666666666,
              "#ed7953"
             ],
             [
              0.7777777777777778,
              "#fb9f3a"
             ],
             [
              0.8888888888888888,
              "#fdca26"
             ],
             [
              1,
              "#f0f921"
             ]
            ],
            "type": "histogram2dcontour"
           }
          ],
          "mesh3d": [
           {
            "colorbar": {
             "outlinewidth": 0,
             "ticks": ""
            },
            "type": "mesh3d"
           }
          ],
          "parcoords": [
           {
            "line": {
             "colorbar": {
              "outlinewidth": 0,
              "ticks": ""
             }
            },
            "type": "parcoords"
           }
          ],
          "pie": [
           {
            "automargin": true,
            "type": "pie"
           }
          ],
          "scatter": [
           {
            "fillpattern": {
             "fillmode": "overlay",
             "size": 10,
             "solidity": 0.2
            },
            "type": "scatter"
           }
          ],
          "scatter3d": [
           {
            "line": {
             "colorbar": {
              "outlinewidth": 0,
              "ticks": ""
             }
            },
            "marker": {
             "colorbar": {
              "outlinewidth": 0,
              "ticks": ""
             }
            },
            "type": "scatter3d"
           }
          ],
          "scattercarpet": [
           {
            "marker": {
             "colorbar": {
              "outlinewidth": 0,
              "ticks": ""
             }
            },
            "type": "scattercarpet"
           }
          ],
          "scattergeo": [
           {
            "marker": {
             "colorbar": {
              "outlinewidth": 0,
              "ticks": ""
             }
            },
            "type": "scattergeo"
           }
          ],
          "scattergl": [
           {
            "marker": {
             "colorbar": {
              "outlinewidth": 0,
              "ticks": ""
             }
            },
            "type": "scattergl"
           }
          ],
          "scattermapbox": [
           {
            "marker": {
             "colorbar": {
              "outlinewidth": 0,
              "ticks": ""
             }
            },
            "type": "scattermapbox"
           }
          ],
          "scatterpolar": [
           {
            "marker": {
             "colorbar": {
              "outlinewidth": 0,
              "ticks": ""
             }
            },
            "type": "scatterpolar"
           }
          ],
          "scatterpolargl": [
           {
            "marker": {
             "colorbar": {
              "outlinewidth": 0,
              "ticks": ""
             }
            },
            "type": "scatterpolargl"
           }
          ],
          "scatterternary": [
           {
            "marker": {
             "colorbar": {
              "outlinewidth": 0,
              "ticks": ""
             }
            },
            "type": "scatterternary"
           }
          ],
          "surface": [
           {
            "colorbar": {
             "outlinewidth": 0,
             "ticks": ""
            },
            "colorscale": [
             [
              0,
              "#0d0887"
             ],
             [
              0.1111111111111111,
              "#46039f"
             ],
             [
              0.2222222222222222,
              "#7201a8"
             ],
             [
              0.3333333333333333,
              "#9c179e"
             ],
             [
              0.4444444444444444,
              "#bd3786"
             ],
             [
              0.5555555555555556,
              "#d8576b"
             ],
             [
              0.6666666666666666,
              "#ed7953"
             ],
             [
              0.7777777777777778,
              "#fb9f3a"
             ],
             [
              0.8888888888888888,
              "#fdca26"
             ],
             [
              1,
              "#f0f921"
             ]
            ],
            "type": "surface"
           }
          ],
          "table": [
           {
            "cells": {
             "fill": {
              "color": "#EBF0F8"
             },
             "line": {
              "color": "white"
             }
            },
            "header": {
             "fill": {
              "color": "#C8D4E3"
             },
             "line": {
              "color": "white"
             }
            },
            "type": "table"
           }
          ]
         },
         "layout": {
          "annotationdefaults": {
           "arrowcolor": "#2a3f5f",
           "arrowhead": 0,
           "arrowwidth": 1
          },
          "autotypenumbers": "strict",
          "coloraxis": {
           "colorbar": {
            "outlinewidth": 0,
            "ticks": ""
           }
          },
          "colorscale": {
           "diverging": [
            [
             0,
             "#8e0152"
            ],
            [
             0.1,
             "#c51b7d"
            ],
            [
             0.2,
             "#de77ae"
            ],
            [
             0.3,
             "#f1b6da"
            ],
            [
             0.4,
             "#fde0ef"
            ],
            [
             0.5,
             "#f7f7f7"
            ],
            [
             0.6,
             "#e6f5d0"
            ],
            [
             0.7,
             "#b8e186"
            ],
            [
             0.8,
             "#7fbc41"
            ],
            [
             0.9,
             "#4d9221"
            ],
            [
             1,
             "#276419"
            ]
           ],
           "sequential": [
            [
             0,
             "#0d0887"
            ],
            [
             0.1111111111111111,
             "#46039f"
            ],
            [
             0.2222222222222222,
             "#7201a8"
            ],
            [
             0.3333333333333333,
             "#9c179e"
            ],
            [
             0.4444444444444444,
             "#bd3786"
            ],
            [
             0.5555555555555556,
             "#d8576b"
            ],
            [
             0.6666666666666666,
             "#ed7953"
            ],
            [
             0.7777777777777778,
             "#fb9f3a"
            ],
            [
             0.8888888888888888,
             "#fdca26"
            ],
            [
             1,
             "#f0f921"
            ]
           ],
           "sequentialminus": [
            [
             0,
             "#0d0887"
            ],
            [
             0.1111111111111111,
             "#46039f"
            ],
            [
             0.2222222222222222,
             "#7201a8"
            ],
            [
             0.3333333333333333,
             "#9c179e"
            ],
            [
             0.4444444444444444,
             "#bd3786"
            ],
            [
             0.5555555555555556,
             "#d8576b"
            ],
            [
             0.6666666666666666,
             "#ed7953"
            ],
            [
             0.7777777777777778,
             "#fb9f3a"
            ],
            [
             0.8888888888888888,
             "#fdca26"
            ],
            [
             1,
             "#f0f921"
            ]
           ]
          },
          "colorway": [
           "#636efa",
           "#EF553B",
           "#00cc96",
           "#ab63fa",
           "#FFA15A",
           "#19d3f3",
           "#FF6692",
           "#B6E880",
           "#FF97FF",
           "#FECB52"
          ],
          "font": {
           "color": "#2a3f5f"
          },
          "geo": {
           "bgcolor": "white",
           "lakecolor": "white",
           "landcolor": "#E5ECF6",
           "showlakes": true,
           "showland": true,
           "subunitcolor": "white"
          },
          "hoverlabel": {
           "align": "left"
          },
          "hovermode": "closest",
          "mapbox": {
           "style": "light"
          },
          "paper_bgcolor": "white",
          "plot_bgcolor": "#E5ECF6",
          "polar": {
           "angularaxis": {
            "gridcolor": "white",
            "linecolor": "white",
            "ticks": ""
           },
           "bgcolor": "#E5ECF6",
           "radialaxis": {
            "gridcolor": "white",
            "linecolor": "white",
            "ticks": ""
           }
          },
          "scene": {
           "xaxis": {
            "backgroundcolor": "#E5ECF6",
            "gridcolor": "white",
            "gridwidth": 2,
            "linecolor": "white",
            "showbackground": true,
            "ticks": "",
            "zerolinecolor": "white"
           },
           "yaxis": {
            "backgroundcolor": "#E5ECF6",
            "gridcolor": "white",
            "gridwidth": 2,
            "linecolor": "white",
            "showbackground": true,
            "ticks": "",
            "zerolinecolor": "white"
           },
           "zaxis": {
            "backgroundcolor": "#E5ECF6",
            "gridcolor": "white",
            "gridwidth": 2,
            "linecolor": "white",
            "showbackground": true,
            "ticks": "",
            "zerolinecolor": "white"
           }
          },
          "shapedefaults": {
           "line": {
            "color": "#2a3f5f"
           }
          },
          "ternary": {
           "aaxis": {
            "gridcolor": "white",
            "linecolor": "white",
            "ticks": ""
           },
           "baxis": {
            "gridcolor": "white",
            "linecolor": "white",
            "ticks": ""
           },
           "bgcolor": "#E5ECF6",
           "caxis": {
            "gridcolor": "white",
            "linecolor": "white",
            "ticks": ""
           }
          },
          "title": {
           "x": 0.05
          },
          "xaxis": {
           "automargin": true,
           "gridcolor": "white",
           "linecolor": "white",
           "ticks": "",
           "title": {
            "standoff": 15
           },
           "zerolinecolor": "white",
           "zerolinewidth": 2
          },
          "yaxis": {
           "automargin": true,
           "gridcolor": "white",
           "linecolor": "white",
           "ticks": "",
           "title": {
            "standoff": 15
           },
           "zerolinecolor": "white",
           "zerolinewidth": 2
          }
         }
        },
        "title": {
         "text": "Bar Chart of Mean Prices by Category"
        },
        "width": 800,
        "xaxis": {
         "anchor": "y",
         "domain": [
          0,
          1
         ],
         "title": {
          "text": "Categories"
         }
        },
        "yaxis": {
         "anchor": "x",
         "domain": [
          0,
          1
         ],
         "title": {
          "text": "Mean Price (EUR)"
         }
        }
       }
      }
     },
     "metadata": {},
     "output_type": "display_data"
    }
   ],
   "source": [
    "import plotly.express as px\n",
    "\n",
    "# Assuming 'df' is your DataFrame, and you have a 'category' column and a 'price' column.\n",
    "# Calculate the mean price for each category.\n",
    "category_mean_prices = df.groupby('category')['price'].median().sort_values(ascending=False)\n",
    "\n",
    "# Create a Plotly figure\n",
    "fig = px.bar(\n",
    "    x=category_mean_prices.index,\n",
    "    y=category_mean_prices.values,\n",
    "    labels={'x': 'Categories', 'y': 'Mean Price (EUR)'},\n",
    "    title='Bar Chart of Mean Prices by Category',\n",
    ")\n",
    "\n",
    "# Add tooltips for each bar\n",
    "fig.update_traces(text=category_mean_prices.values, texttemplate='%{text:.2f}', textposition='outside')\n",
    "\n",
    "# Set the figure size (optional)\n",
    "fig.update_layout(width=800, height=600)\n",
    "\n",
    "# Show the interactive chart\n",
    "fig.show()\n"
   ]
  },
  {
   "cell_type": "code",
   "execution_count": 14,
   "metadata": {},
   "outputs": [
    {
     "data": {
      "application/vnd.plotly.v1+json": {
       "config": {
        "plotlyServerURL": "https://plot.ly"
       },
       "data": [
        {
         "alignmentgroup": "True",
         "hovertemplate": "Categories=%{x}<br>Mean Price (EUR)=%{y}<extra></extra>",
         "legendgroup": "",
         "marker": {
          "color": "#636efa",
          "pattern": {
           "shape": ""
          }
         },
         "name": "",
         "offsetgroup": "",
         "orientation": "v",
         "showlegend": false,
         "text": [
          278.1718,
          95.25059999999999,
          82.2792,
          71.0987,
          56.6272,
          56.592200000000005,
          51.98989898989899,
          35.8859,
          34.9106,
          32.5591,
          29.097799999999996,
          24.817600000000002,
          24.487199999999998,
          23.7707,
          23.144499999999997,
          22.0909,
          21.8227,
          21.1541,
          20.4051,
          20.0795,
          19.2589,
          19.2461,
          18.843999999999998,
          17.9514,
          17.426199999999998,
          15.2876,
          14.853599999999998,
          14.751599999999998,
          14.3577,
          13.599200000000002,
          5.602,
          4.7156
         ],
         "textposition": "outside",
         "texttemplate": "%{text:.2f}",
         "type": "bar",
         "x": [
          "amazon-renewed",
          "amazon-devices",
          "appliances",
          "gift-cards",
          "videogames",
          "computers",
          "software",
          "kitchen",
          "boost",
          "electronics",
          "musical-instruments",
          "toys",
          "sports",
          "fashion",
          "baby",
          "music",
          "lawn-garden",
          "climate-pledge",
          "dvd",
          "automotive",
          "pet-supplies",
          "hpc",
          "lighting",
          "industrial",
          "handmade",
          "books",
          "grocery",
          "tools",
          "beauty",
          "office",
          "mobile-apps",
          "digital-text"
         ],
         "xaxis": "x",
         "y": [
          278.1718,
          95.25059999999999,
          82.2792,
          71.0987,
          56.6272,
          56.592200000000005,
          51.98989898989899,
          35.8859,
          34.9106,
          32.5591,
          29.097799999999996,
          24.817600000000002,
          24.487199999999998,
          23.7707,
          23.144499999999997,
          22.0909,
          21.8227,
          21.1541,
          20.4051,
          20.0795,
          19.2589,
          19.2461,
          18.843999999999998,
          17.9514,
          17.426199999999998,
          15.2876,
          14.853599999999998,
          14.751599999999998,
          14.3577,
          13.599200000000002,
          5.602,
          4.7156
         ],
         "yaxis": "y"
        }
       ],
       "layout": {
        "barmode": "relative",
        "height": 600,
        "legend": {
         "tracegroupgap": 0
        },
        "template": {
         "data": {
          "bar": [
           {
            "error_x": {
             "color": "#2a3f5f"
            },
            "error_y": {
             "color": "#2a3f5f"
            },
            "marker": {
             "line": {
              "color": "#E5ECF6",
              "width": 0.5
             },
             "pattern": {
              "fillmode": "overlay",
              "size": 10,
              "solidity": 0.2
             }
            },
            "type": "bar"
           }
          ],
          "barpolar": [
           {
            "marker": {
             "line": {
              "color": "#E5ECF6",
              "width": 0.5
             },
             "pattern": {
              "fillmode": "overlay",
              "size": 10,
              "solidity": 0.2
             }
            },
            "type": "barpolar"
           }
          ],
          "carpet": [
           {
            "aaxis": {
             "endlinecolor": "#2a3f5f",
             "gridcolor": "white",
             "linecolor": "white",
             "minorgridcolor": "white",
             "startlinecolor": "#2a3f5f"
            },
            "baxis": {
             "endlinecolor": "#2a3f5f",
             "gridcolor": "white",
             "linecolor": "white",
             "minorgridcolor": "white",
             "startlinecolor": "#2a3f5f"
            },
            "type": "carpet"
           }
          ],
          "choropleth": [
           {
            "colorbar": {
             "outlinewidth": 0,
             "ticks": ""
            },
            "type": "choropleth"
           }
          ],
          "contour": [
           {
            "colorbar": {
             "outlinewidth": 0,
             "ticks": ""
            },
            "colorscale": [
             [
              0,
              "#0d0887"
             ],
             [
              0.1111111111111111,
              "#46039f"
             ],
             [
              0.2222222222222222,
              "#7201a8"
             ],
             [
              0.3333333333333333,
              "#9c179e"
             ],
             [
              0.4444444444444444,
              "#bd3786"
             ],
             [
              0.5555555555555556,
              "#d8576b"
             ],
             [
              0.6666666666666666,
              "#ed7953"
             ],
             [
              0.7777777777777778,
              "#fb9f3a"
             ],
             [
              0.8888888888888888,
              "#fdca26"
             ],
             [
              1,
              "#f0f921"
             ]
            ],
            "type": "contour"
           }
          ],
          "contourcarpet": [
           {
            "colorbar": {
             "outlinewidth": 0,
             "ticks": ""
            },
            "type": "contourcarpet"
           }
          ],
          "heatmap": [
           {
            "colorbar": {
             "outlinewidth": 0,
             "ticks": ""
            },
            "colorscale": [
             [
              0,
              "#0d0887"
             ],
             [
              0.1111111111111111,
              "#46039f"
             ],
             [
              0.2222222222222222,
              "#7201a8"
             ],
             [
              0.3333333333333333,
              "#9c179e"
             ],
             [
              0.4444444444444444,
              "#bd3786"
             ],
             [
              0.5555555555555556,
              "#d8576b"
             ],
             [
              0.6666666666666666,
              "#ed7953"
             ],
             [
              0.7777777777777778,
              "#fb9f3a"
             ],
             [
              0.8888888888888888,
              "#fdca26"
             ],
             [
              1,
              "#f0f921"
             ]
            ],
            "type": "heatmap"
           }
          ],
          "heatmapgl": [
           {
            "colorbar": {
             "outlinewidth": 0,
             "ticks": ""
            },
            "colorscale": [
             [
              0,
              "#0d0887"
             ],
             [
              0.1111111111111111,
              "#46039f"
             ],
             [
              0.2222222222222222,
              "#7201a8"
             ],
             [
              0.3333333333333333,
              "#9c179e"
             ],
             [
              0.4444444444444444,
              "#bd3786"
             ],
             [
              0.5555555555555556,
              "#d8576b"
             ],
             [
              0.6666666666666666,
              "#ed7953"
             ],
             [
              0.7777777777777778,
              "#fb9f3a"
             ],
             [
              0.8888888888888888,
              "#fdca26"
             ],
             [
              1,
              "#f0f921"
             ]
            ],
            "type": "heatmapgl"
           }
          ],
          "histogram": [
           {
            "marker": {
             "pattern": {
              "fillmode": "overlay",
              "size": 10,
              "solidity": 0.2
             }
            },
            "type": "histogram"
           }
          ],
          "histogram2d": [
           {
            "colorbar": {
             "outlinewidth": 0,
             "ticks": ""
            },
            "colorscale": [
             [
              0,
              "#0d0887"
             ],
             [
              0.1111111111111111,
              "#46039f"
             ],
             [
              0.2222222222222222,
              "#7201a8"
             ],
             [
              0.3333333333333333,
              "#9c179e"
             ],
             [
              0.4444444444444444,
              "#bd3786"
             ],
             [
              0.5555555555555556,
              "#d8576b"
             ],
             [
              0.6666666666666666,
              "#ed7953"
             ],
             [
              0.7777777777777778,
              "#fb9f3a"
             ],
             [
              0.8888888888888888,
              "#fdca26"
             ],
             [
              1,
              "#f0f921"
             ]
            ],
            "type": "histogram2d"
           }
          ],
          "histogram2dcontour": [
           {
            "colorbar": {
             "outlinewidth": 0,
             "ticks": ""
            },
            "colorscale": [
             [
              0,
              "#0d0887"
             ],
             [
              0.1111111111111111,
              "#46039f"
             ],
             [
              0.2222222222222222,
              "#7201a8"
             ],
             [
              0.3333333333333333,
              "#9c179e"
             ],
             [
              0.4444444444444444,
              "#bd3786"
             ],
             [
              0.5555555555555556,
              "#d8576b"
             ],
             [
              0.6666666666666666,
              "#ed7953"
             ],
             [
              0.7777777777777778,
              "#fb9f3a"
             ],
             [
              0.8888888888888888,
              "#fdca26"
             ],
             [
              1,
              "#f0f921"
             ]
            ],
            "type": "histogram2dcontour"
           }
          ],
          "mesh3d": [
           {
            "colorbar": {
             "outlinewidth": 0,
             "ticks": ""
            },
            "type": "mesh3d"
           }
          ],
          "parcoords": [
           {
            "line": {
             "colorbar": {
              "outlinewidth": 0,
              "ticks": ""
             }
            },
            "type": "parcoords"
           }
          ],
          "pie": [
           {
            "automargin": true,
            "type": "pie"
           }
          ],
          "scatter": [
           {
            "fillpattern": {
             "fillmode": "overlay",
             "size": 10,
             "solidity": 0.2
            },
            "type": "scatter"
           }
          ],
          "scatter3d": [
           {
            "line": {
             "colorbar": {
              "outlinewidth": 0,
              "ticks": ""
             }
            },
            "marker": {
             "colorbar": {
              "outlinewidth": 0,
              "ticks": ""
             }
            },
            "type": "scatter3d"
           }
          ],
          "scattercarpet": [
           {
            "marker": {
             "colorbar": {
              "outlinewidth": 0,
              "ticks": ""
             }
            },
            "type": "scattercarpet"
           }
          ],
          "scattergeo": [
           {
            "marker": {
             "colorbar": {
              "outlinewidth": 0,
              "ticks": ""
             }
            },
            "type": "scattergeo"
           }
          ],
          "scattergl": [
           {
            "marker": {
             "colorbar": {
              "outlinewidth": 0,
              "ticks": ""
             }
            },
            "type": "scattergl"
           }
          ],
          "scattermapbox": [
           {
            "marker": {
             "colorbar": {
              "outlinewidth": 0,
              "ticks": ""
             }
            },
            "type": "scattermapbox"
           }
          ],
          "scatterpolar": [
           {
            "marker": {
             "colorbar": {
              "outlinewidth": 0,
              "ticks": ""
             }
            },
            "type": "scatterpolar"
           }
          ],
          "scatterpolargl": [
           {
            "marker": {
             "colorbar": {
              "outlinewidth": 0,
              "ticks": ""
             }
            },
            "type": "scatterpolargl"
           }
          ],
          "scatterternary": [
           {
            "marker": {
             "colorbar": {
              "outlinewidth": 0,
              "ticks": ""
             }
            },
            "type": "scatterternary"
           }
          ],
          "surface": [
           {
            "colorbar": {
             "outlinewidth": 0,
             "ticks": ""
            },
            "colorscale": [
             [
              0,
              "#0d0887"
             ],
             [
              0.1111111111111111,
              "#46039f"
             ],
             [
              0.2222222222222222,
              "#7201a8"
             ],
             [
              0.3333333333333333,
              "#9c179e"
             ],
             [
              0.4444444444444444,
              "#bd3786"
             ],
             [
              0.5555555555555556,
              "#d8576b"
             ],
             [
              0.6666666666666666,
              "#ed7953"
             ],
             [
              0.7777777777777778,
              "#fb9f3a"
             ],
             [
              0.8888888888888888,
              "#fdca26"
             ],
             [
              1,
              "#f0f921"
             ]
            ],
            "type": "surface"
           }
          ],
          "table": [
           {
            "cells": {
             "fill": {
              "color": "#EBF0F8"
             },
             "line": {
              "color": "white"
             }
            },
            "header": {
             "fill": {
              "color": "#C8D4E3"
             },
             "line": {
              "color": "white"
             }
            },
            "type": "table"
           }
          ]
         },
         "layout": {
          "annotationdefaults": {
           "arrowcolor": "#2a3f5f",
           "arrowhead": 0,
           "arrowwidth": 1
          },
          "autotypenumbers": "strict",
          "coloraxis": {
           "colorbar": {
            "outlinewidth": 0,
            "ticks": ""
           }
          },
          "colorscale": {
           "diverging": [
            [
             0,
             "#8e0152"
            ],
            [
             0.1,
             "#c51b7d"
            ],
            [
             0.2,
             "#de77ae"
            ],
            [
             0.3,
             "#f1b6da"
            ],
            [
             0.4,
             "#fde0ef"
            ],
            [
             0.5,
             "#f7f7f7"
            ],
            [
             0.6,
             "#e6f5d0"
            ],
            [
             0.7,
             "#b8e186"
            ],
            [
             0.8,
             "#7fbc41"
            ],
            [
             0.9,
             "#4d9221"
            ],
            [
             1,
             "#276419"
            ]
           ],
           "sequential": [
            [
             0,
             "#0d0887"
            ],
            [
             0.1111111111111111,
             "#46039f"
            ],
            [
             0.2222222222222222,
             "#7201a8"
            ],
            [
             0.3333333333333333,
             "#9c179e"
            ],
            [
             0.4444444444444444,
             "#bd3786"
            ],
            [
             0.5555555555555556,
             "#d8576b"
            ],
            [
             0.6666666666666666,
             "#ed7953"
            ],
            [
             0.7777777777777778,
             "#fb9f3a"
            ],
            [
             0.8888888888888888,
             "#fdca26"
            ],
            [
             1,
             "#f0f921"
            ]
           ],
           "sequentialminus": [
            [
             0,
             "#0d0887"
            ],
            [
             0.1111111111111111,
             "#46039f"
            ],
            [
             0.2222222222222222,
             "#7201a8"
            ],
            [
             0.3333333333333333,
             "#9c179e"
            ],
            [
             0.4444444444444444,
             "#bd3786"
            ],
            [
             0.5555555555555556,
             "#d8576b"
            ],
            [
             0.6666666666666666,
             "#ed7953"
            ],
            [
             0.7777777777777778,
             "#fb9f3a"
            ],
            [
             0.8888888888888888,
             "#fdca26"
            ],
            [
             1,
             "#f0f921"
            ]
           ]
          },
          "colorway": [
           "#636efa",
           "#EF553B",
           "#00cc96",
           "#ab63fa",
           "#FFA15A",
           "#19d3f3",
           "#FF6692",
           "#B6E880",
           "#FF97FF",
           "#FECB52"
          ],
          "font": {
           "color": "#2a3f5f"
          },
          "geo": {
           "bgcolor": "white",
           "lakecolor": "white",
           "landcolor": "#E5ECF6",
           "showlakes": true,
           "showland": true,
           "subunitcolor": "white"
          },
          "hoverlabel": {
           "align": "left"
          },
          "hovermode": "closest",
          "mapbox": {
           "style": "light"
          },
          "paper_bgcolor": "white",
          "plot_bgcolor": "#E5ECF6",
          "polar": {
           "angularaxis": {
            "gridcolor": "white",
            "linecolor": "white",
            "ticks": ""
           },
           "bgcolor": "#E5ECF6",
           "radialaxis": {
            "gridcolor": "white",
            "linecolor": "white",
            "ticks": ""
           }
          },
          "scene": {
           "xaxis": {
            "backgroundcolor": "#E5ECF6",
            "gridcolor": "white",
            "gridwidth": 2,
            "linecolor": "white",
            "showbackground": true,
            "ticks": "",
            "zerolinecolor": "white"
           },
           "yaxis": {
            "backgroundcolor": "#E5ECF6",
            "gridcolor": "white",
            "gridwidth": 2,
            "linecolor": "white",
            "showbackground": true,
            "ticks": "",
            "zerolinecolor": "white"
           },
           "zaxis": {
            "backgroundcolor": "#E5ECF6",
            "gridcolor": "white",
            "gridwidth": 2,
            "linecolor": "white",
            "showbackground": true,
            "ticks": "",
            "zerolinecolor": "white"
           }
          },
          "shapedefaults": {
           "line": {
            "color": "#2a3f5f"
           }
          },
          "ternary": {
           "aaxis": {
            "gridcolor": "white",
            "linecolor": "white",
            "ticks": ""
           },
           "baxis": {
            "gridcolor": "white",
            "linecolor": "white",
            "ticks": ""
           },
           "bgcolor": "#E5ECF6",
           "caxis": {
            "gridcolor": "white",
            "linecolor": "white",
            "ticks": ""
           }
          },
          "title": {
           "x": 0.05
          },
          "xaxis": {
           "automargin": true,
           "gridcolor": "white",
           "linecolor": "white",
           "ticks": "",
           "title": {
            "standoff": 15
           },
           "zerolinecolor": "white",
           "zerolinewidth": 2
          },
          "yaxis": {
           "automargin": true,
           "gridcolor": "white",
           "linecolor": "white",
           "ticks": "",
           "title": {
            "standoff": 15
           },
           "zerolinecolor": "white",
           "zerolinewidth": 2
          }
         }
        },
        "title": {
         "text": "Bar Chart of Mean Prices by Category"
        },
        "width": 800,
        "xaxis": {
         "anchor": "y",
         "domain": [
          0,
          1
         ],
         "title": {
          "text": "Categories"
         }
        },
        "yaxis": {
         "anchor": "x",
         "domain": [
          0,
          1
         ],
         "title": {
          "text": "Mean Price (EUR)"
         }
        }
       }
      }
     },
     "metadata": {},
     "output_type": "display_data"
    }
   ],
   "source": [
    "import plotly.express as px\n",
    "\n",
    "# Assuming 'df' is your DataFrame, and you have a 'category' column and a 'price' column.\n",
    "# Calculate the mean price for each category.\n",
    "category_mean_prices = df.groupby('category')['price'].mean().sort_values(ascending=False)\n",
    "\n",
    "# Create a Plotly figure\n",
    "fig = px.bar(\n",
    "    x=category_mean_prices.index,\n",
    "    y=category_mean_prices.values,\n",
    "    labels={'x': 'Categories', 'y': 'Mean Price (EUR)'},\n",
    "    title='Bar Chart of Mean Prices by Category',\n",
    ")\n",
    "\n",
    "# Add tooltips for each bar\n",
    "fig.update_traces(text=category_mean_prices.values, texttemplate='%{text:.2f}', textposition='outside')\n",
    "\n",
    "# Set the figure size (optional)\n",
    "fig.update_layout(width=800, height=600)\n",
    "\n",
    "# Show the interactive chart\n",
    "fig.show()"
   ]
  },
  {
   "cell_type": "code",
   "execution_count": 24,
   "metadata": {},
   "outputs": [
    {
     "data": {
      "image/png": "[encoded data removed]",
      "text/plain": [
       "<Figure size 640x480 with 1 Axes>"
      ]
     },
     "metadata": {},
     "output_type": "display_data"
    }
   ],
   "source": [
    "import pandas as pd\n",
    "import matplotlib.pyplot as plt\n",
    "\n",
    "# Create bins of width 0.5 for the 'Rating' column\n",
    "bins = [i/10 for i in range(0, 51)]  # Creates bins from 0.0 to 5.0 in increments of 0.1\n",
    "\n",
    "# Use the cut function to distribute ratings into bins\n",
    "df['Rating Bins'] = pd.cut(df['rating'], bins, right=False)\n",
    "\n",
    "# Group the data by 'Rating Bins' and count the number of products in each bin\n",
    "bin_counts = df['Rating Bins'].value_counts().sort_index()\n",
    "\n",
    "# Create a bar plot to visualize the distribution\n",
    "bin_counts.plot(kind='bar', color='skyblue', edgecolor='black')\n",
    "plt.xlabel('Rating Bins')\n",
    "plt.ylabel('Count')\n",
    "plt.title('Distribution of Product Ratings')\n",
    "plt.xticks(rotation=45)  # Rotate x-axis labels for better visibility\n",
    "\n",
    "plt.show()\n"
   ]
  },
  {
   "cell_type": "code",
   "execution_count": 16,
   "metadata": {},
   "outputs": [
    {
     "data": {
      "text/plain": [
       "16.99"
      ]
     },
     "execution_count": 16,
     "metadata": {},
     "output_type": "execute_result"
    }
   ],
   "source": [
    "df.price.median()"
   ]
  },
  {
   "cell_type": "code",
   "execution_count": 42,
   "metadata": {},
   "outputs": [
    {
     "data": {
      "text/html": [
       "<div>\n",
       "<style scoped>\n",
       "    .dataframe tbody tr th:only-of-type {\n",
       "        vertical-align: middle;\n",
       "    }\n",
       "\n",
       "    .dataframe tbody tr th {\n",
       "        vertical-align: top;\n",
       "    }\n",
       "\n",
       "    .dataframe thead th {\n",
       "        text-align: right;\n",
       "    }\n",
       "</style>\n",
       "<table border=\"1\" class=\"dataframe\">\n",
       "  <thead>\n",
       "    <tr style=\"text-align: right;\">\n",
       "      <th></th>\n",
       "      <th>asin</th>\n",
       "      <th>title</th>\n",
       "      <th>price</th>\n",
       "      <th>rating</th>\n",
       "      <th>num_reviews</th>\n",
       "      <th>img_link</th>\n",
       "      <th>category</th>\n",
       "    </tr>\n",
       "  </thead>\n",
       "  <tbody>\n",
       "    <tr>\n",
       "      <th>2708</th>\n",
       "      <td>B00NTCHCU2</td>\n",
       "      <td>Amazon Basics Pilas alcalinas AAA de 1,5 volti...</td>\n",
       "      <td>7.66</td>\n",
       "      <td>4.5</td>\n",
       "      <td>1369803</td>\n",
       "      <td>https://images-eu.ssl-images-amazon.com/images...</td>\n",
       "      <td>electronics</td>\n",
       "    </tr>\n",
       "    <tr>\n",
       "      <th>2711</th>\n",
       "      <td>B00LH3DMUO</td>\n",
       "      <td>Amazon Basics Pilas alcalinas AAA de 1,5 volti...</td>\n",
       "      <td>12.18</td>\n",
       "      <td>4.5</td>\n",
       "      <td>1369803</td>\n",
       "      <td>https://images-eu.ssl-images-amazon.com/images...</td>\n",
       "      <td>electronics</td>\n",
       "    </tr>\n",
       "    <tr>\n",
       "      <th>2713</th>\n",
       "      <td>B00NTCH52W</td>\n",
       "      <td>Amazon Basics Pilas alcalinas AA de 1,5 voltio...</td>\n",
       "      <td>9.28</td>\n",
       "      <td>4.5</td>\n",
       "      <td>1369803</td>\n",
       "      <td>https://images-eu.ssl-images-amazon.com/images...</td>\n",
       "      <td>electronics</td>\n",
       "    </tr>\n",
       "    <tr>\n",
       "      <th>2755</th>\n",
       "      <td>B00MNV8E0C</td>\n",
       "      <td>Amazon Basics Pilas alcalinas AA de 1,5 voltio...</td>\n",
       "      <td>15.07</td>\n",
       "      <td>4.5</td>\n",
       "      <td>1369803</td>\n",
       "      <td>https://images-eu.ssl-images-amazon.com/images...</td>\n",
       "      <td>electronics</td>\n",
       "    </tr>\n",
       "    <tr>\n",
       "      <th>1232</th>\n",
       "      <td>B0014C5S7S</td>\n",
       "      <td>Crocs Classic Clogs (Best Sellers), Zuecos Uni...</td>\n",
       "      <td>33.99</td>\n",
       "      <td>4.7</td>\n",
       "      <td>465743</td>\n",
       "      <td>https://images-eu.ssl-images-amazon.com/images...</td>\n",
       "      <td>fashion</td>\n",
       "    </tr>\n",
       "    <tr>\n",
       "      <th>2732</th>\n",
       "      <td>B00CWNMXQW</td>\n",
       "      <td>Amazon Basics - Pilas AAA recargables, precarg...</td>\n",
       "      <td>11.39</td>\n",
       "      <td>4.5</td>\n",
       "      <td>296375</td>\n",
       "      <td>https://images-eu.ssl-images-amazon.com/images...</td>\n",
       "      <td>electronics</td>\n",
       "    </tr>\n",
       "    <tr>\n",
       "      <th>2778</th>\n",
       "      <td>B07NWWLP5S</td>\n",
       "      <td>Amazon Basics - Pilas recargables AA (paquete ...</td>\n",
       "      <td>16.41</td>\n",
       "      <td>4.5</td>\n",
       "      <td>296375</td>\n",
       "      <td>https://images-eu.ssl-images-amazon.com/images...</td>\n",
       "      <td>electronics</td>\n",
       "    </tr>\n",
       "    <tr>\n",
       "      <th>2783</th>\n",
       "      <td>B00CWNMV4G</td>\n",
       "      <td>Amazon Basics - Pilas AA recargables, precarga...</td>\n",
       "      <td>13.12</td>\n",
       "      <td>4.5</td>\n",
       "      <td>296375</td>\n",
       "      <td>https://images-eu.ssl-images-amazon.com/images...</td>\n",
       "      <td>electronics</td>\n",
       "    </tr>\n",
       "    <tr>\n",
       "      <th>614</th>\n",
       "      <td>B00BX5FOCK</td>\n",
       "      <td>SanDisk 64 GB Cruzer Blade USB 2.0 Flash Drive...</td>\n",
       "      <td>5.38</td>\n",
       "      <td>4.6</td>\n",
       "      <td>259468</td>\n",
       "      <td>https://images-eu.ssl-images-amazon.com/images...</td>\n",
       "      <td>computers</td>\n",
       "    </tr>\n",
       "    <tr>\n",
       "      <th>663</th>\n",
       "      <td>B00RM1EC1S</td>\n",
       "      <td>SanDisk 128GB Cruzer Blade USB 2.0 Flash Drive</td>\n",
       "      <td>10.99</td>\n",
       "      <td>4.6</td>\n",
       "      <td>259468</td>\n",
       "      <td>https://images-eu.ssl-images-amazon.com/images...</td>\n",
       "      <td>computers</td>\n",
       "    </tr>\n",
       "  </tbody>\n",
       "</table>\n",
       "</div>"
      ],
      "text/plain": [
       "            asin                                              title  price  \\\n",
       "2708  B00NTCHCU2  Amazon Basics Pilas alcalinas AAA de 1,5 volti...   7.66   \n",
       "2711  B00LH3DMUO  Amazon Basics Pilas alcalinas AAA de 1,5 volti...  12.18   \n",
       "2713  B00NTCH52W  Amazon Basics Pilas alcalinas AA de 1,5 voltio...   9.28   \n",
       "2755  B00MNV8E0C  Amazon Basics Pilas alcalinas AA de 1,5 voltio...  15.07   \n",
       "1232  B0014C5S7S  Crocs Classic Clogs (Best Sellers), Zuecos Uni...  33.99   \n",
       "2732  B00CWNMXQW  Amazon Basics - Pilas AAA recargables, precarg...  11.39   \n",
       "2778  B07NWWLP5S  Amazon Basics - Pilas recargables AA (paquete ...  16.41   \n",
       "2783  B00CWNMV4G  Amazon Basics - Pilas AA recargables, precarga...  13.12   \n",
       "614   B00BX5FOCK  SanDisk 64 GB Cruzer Blade USB 2.0 Flash Drive...   5.38   \n",
       "663   B00RM1EC1S     SanDisk 128GB Cruzer Blade USB 2.0 Flash Drive  10.99   \n",
       "\n",
       "      rating  num_reviews                                           img_link  \\\n",
       "2708     4.5      1369803  https://images-eu.ssl-images-amazon.com/images...   \n",
       "2711     4.5      1369803  https://images-eu.ssl-images-amazon.com/images...   \n",
       "2713     4.5      1369803  https://images-eu.ssl-images-amazon.com/images...   \n",
       "2755     4.5      1369803  https://images-eu.ssl-images-amazon.com/images...   \n",
       "1232     4.7       465743  https://images-eu.ssl-images-amazon.com/images...   \n",
       "2732     4.5       296375  https://images-eu.ssl-images-amazon.com/images...   \n",
       "2778     4.5       296375  https://images-eu.ssl-images-amazon.com/images...   \n",
       "2783     4.5       296375  https://images-eu.ssl-images-amazon.com/images...   \n",
       "614      4.6       259468  https://images-eu.ssl-images-amazon.com/images...   \n",
       "663      4.6       259468  https://images-eu.ssl-images-amazon.com/images...   \n",
       "\n",
       "         category  \n",
       "2708  electronics  \n",
       "2711  electronics  \n",
       "2713  electronics  \n",
       "2755  electronics  \n",
       "1232      fashion  \n",
       "2732  electronics  \n",
       "2778  electronics  \n",
       "2783  electronics  \n",
       "614     computers  \n",
       "663     computers  "
      ]
     },
     "execution_count": 42,
     "metadata": {},
     "output_type": "execute_result"
    }
   ],
   "source": [
    "top_10_rows = df.nlargest(10, 'num_reviews')\n",
    "top_10_rows"
   ]
  },
  {
   "cell_type": "code",
   "execution_count": 29,
   "metadata": {},
   "outputs": [
    {
     "data": {
      "text/html": [
       "<div>\n",
       "<style scoped>\n",
       "    .dataframe tbody tr th:only-of-type {\n",
       "        vertical-align: middle;\n",
       "    }\n",
       "\n",
       "    .dataframe tbody tr th {\n",
       "        vertical-align: top;\n",
       "    }\n",
       "\n",
       "    .dataframe thead th {\n",
       "        text-align: right;\n",
       "    }\n",
       "</style>\n",
       "<table border=\"1\" class=\"dataframe\">\n",
       "  <thead>\n",
       "    <tr style=\"text-align: right;\">\n",
       "      <th></th>\n",
       "      <th>asin</th>\n",
       "      <th>title</th>\n",
       "      <th>price</th>\n",
       "      <th>rating</th>\n",
       "      <th>num_reviews</th>\n",
       "      <th>img_link</th>\n",
       "      <th>category</th>\n",
       "    </tr>\n",
       "  </thead>\n",
       "  <tbody>\n",
       "    <tr>\n",
       "      <th>172</th>\n",
       "      <td>B0BNNZZKFW</td>\n",
       "      <td>Apple iPhone 14 Pro (256 GB) - Morado Oscuro (...</td>\n",
       "      <td>1029.00</td>\n",
       "      <td>3.6</td>\n",
       "      <td>70</td>\n",
       "      <td>https://images-eu.ssl-images-amazon.com/images...</td>\n",
       "      <td>amazon-renewed</td>\n",
       "    </tr>\n",
       "    <tr>\n",
       "      <th>183</th>\n",
       "      <td>B0BNM3T29W</td>\n",
       "      <td>Apple iPhone 14 Plus (256 GB) - Blanco Estrell...</td>\n",
       "      <td>824.00</td>\n",
       "      <td>3.3</td>\n",
       "      <td>80</td>\n",
       "      <td>https://images-eu.ssl-images-amazon.com/images...</td>\n",
       "      <td>amazon-renewed</td>\n",
       "    </tr>\n",
       "    <tr>\n",
       "      <th>113</th>\n",
       "      <td>B09MJRVS68</td>\n",
       "      <td>Apple iPhone 13 Pro Max, 128GB, Azul alpino - ...</td>\n",
       "      <td>799.00</td>\n",
       "      <td>4.0</td>\n",
       "      <td>600</td>\n",
       "      <td>https://images-eu.ssl-images-amazon.com/images...</td>\n",
       "      <td>amazon-renewed</td>\n",
       "    </tr>\n",
       "    <tr>\n",
       "      <th>133</th>\n",
       "      <td>B09G9G48DW</td>\n",
       "      <td>Apple iPhone 13 Mini (128 GB) - en Medianoche</td>\n",
       "      <td>789.00</td>\n",
       "      <td>4.6</td>\n",
       "      <td>2681</td>\n",
       "      <td>https://images-eu.ssl-images-amazon.com/images...</td>\n",
       "      <td>amazon-renewed</td>\n",
       "    </tr>\n",
       "    <tr>\n",
       "      <th>157</th>\n",
       "      <td>B0BNM2KK4R</td>\n",
       "      <td>Apple iPhone 14 (128 GB) - Azul (Reacondicionado)</td>\n",
       "      <td>739.00</td>\n",
       "      <td>4.3</td>\n",
       "      <td>260</td>\n",
       "      <td>https://images-eu.ssl-images-amazon.com/images...</td>\n",
       "      <td>amazon-renewed</td>\n",
       "    </tr>\n",
       "    <tr>\n",
       "      <th>122</th>\n",
       "      <td>B09MJR5TDJ</td>\n",
       "      <td>Apple iPhone 13 Pro, 128GB, Grafito - (Reacond...</td>\n",
       "      <td>728.00</td>\n",
       "      <td>4.1</td>\n",
       "      <td>3450</td>\n",
       "      <td>https://images-eu.ssl-images-amazon.com/images...</td>\n",
       "      <td>amazon-renewed</td>\n",
       "    </tr>\n",
       "    <tr>\n",
       "      <th>104</th>\n",
       "      <td>B09G98HVFS</td>\n",
       "      <td>Apple iPhone 13 (128 GB) - Rosa</td>\n",
       "      <td>699.00</td>\n",
       "      <td>4.7</td>\n",
       "      <td>9686</td>\n",
       "      <td>https://images-eu.ssl-images-amazon.com/images...</td>\n",
       "      <td>amazon-renewed</td>\n",
       "    </tr>\n",
       "    <tr>\n",
       "      <th>2945</th>\n",
       "      <td>B0C3WBJX4F</td>\n",
       "      <td>Garmin fēnix ​​7 Pro Solar, Reloj GPS Multidep...</td>\n",
       "      <td>611.99</td>\n",
       "      <td>4.6</td>\n",
       "      <td>2295</td>\n",
       "      <td>https://images-eu.ssl-images-amazon.com/images...</td>\n",
       "      <td>sports</td>\n",
       "    </tr>\n",
       "    <tr>\n",
       "      <th>116</th>\n",
       "      <td>B08PCCKHJM</td>\n",
       "      <td>Apple iPhone 12 Pro Max, 128GB, Azul Pacifico ...</td>\n",
       "      <td>599.00</td>\n",
       "      <td>4.2</td>\n",
       "      <td>2001</td>\n",
       "      <td>https://images-eu.ssl-images-amazon.com/images...</td>\n",
       "      <td>amazon-renewed</td>\n",
       "    </tr>\n",
       "    <tr>\n",
       "      <th>106</th>\n",
       "      <td>B09MJTKXY8</td>\n",
       "      <td>Apple iPhone 13, 128GB, Azul - (Reacondicionado)</td>\n",
       "      <td>575.00</td>\n",
       "      <td>3.9</td>\n",
       "      <td>2960</td>\n",
       "      <td>https://images-eu.ssl-images-amazon.com/images...</td>\n",
       "      <td>amazon-renewed</td>\n",
       "    </tr>\n",
       "  </tbody>\n",
       "</table>\n",
       "</div>"
      ],
      "text/plain": [
       "            asin                                              title    price  \\\n",
       "172   B0BNNZZKFW  Apple iPhone 14 Pro (256 GB) - Morado Oscuro (...  1029.00   \n",
       "183   B0BNM3T29W  Apple iPhone 14 Plus (256 GB) - Blanco Estrell...   824.00   \n",
       "113   B09MJRVS68  Apple iPhone 13 Pro Max, 128GB, Azul alpino - ...   799.00   \n",
       "133   B09G9G48DW      Apple iPhone 13 Mini (128 GB) - en Medianoche   789.00   \n",
       "157   B0BNM2KK4R  Apple iPhone 14 (128 GB) - Azul (Reacondicionado)   739.00   \n",
       "122   B09MJR5TDJ  Apple iPhone 13 Pro, 128GB, Grafito - (Reacond...   728.00   \n",
       "104   B09G98HVFS                    Apple iPhone 13 (128 GB) - Rosa   699.00   \n",
       "2945  B0C3WBJX4F  Garmin fēnix ​​7 Pro Solar, Reloj GPS Multidep...   611.99   \n",
       "116   B08PCCKHJM  Apple iPhone 12 Pro Max, 128GB, Azul Pacifico ...   599.00   \n",
       "106   B09MJTKXY8   Apple iPhone 13, 128GB, Azul - (Reacondicionado)   575.00   \n",
       "\n",
       "      rating  num_reviews                                           img_link  \\\n",
       "172      3.6           70  https://images-eu.ssl-images-amazon.com/images...   \n",
       "183      3.3           80  https://images-eu.ssl-images-amazon.com/images...   \n",
       "113      4.0          600  https://images-eu.ssl-images-amazon.com/images...   \n",
       "133      4.6         2681  https://images-eu.ssl-images-amazon.com/images...   \n",
       "157      4.3          260  https://images-eu.ssl-images-amazon.com/images...   \n",
       "122      4.1         3450  https://images-eu.ssl-images-amazon.com/images...   \n",
       "104      4.7         9686  https://images-eu.ssl-images-amazon.com/images...   \n",
       "2945     4.6         2295  https://images-eu.ssl-images-amazon.com/images...   \n",
       "116      4.2         2001  https://images-eu.ssl-images-amazon.com/images...   \n",
       "106      3.9         2960  https://images-eu.ssl-images-amazon.com/images...   \n",
       "\n",
       "            category  \n",
       "172   amazon-renewed  \n",
       "183   amazon-renewed  \n",
       "113   amazon-renewed  \n",
       "133   amazon-renewed  \n",
       "157   amazon-renewed  \n",
       "122   amazon-renewed  \n",
       "104   amazon-renewed  \n",
       "2945          sports  \n",
       "116   amazon-renewed  \n",
       "106   amazon-renewed  "
      ]
     },
     "execution_count": 29,
     "metadata": {},
     "output_type": "execute_result"
    }
   ],
   "source": [
    "top_10_rows = df.nlargest(10, 'price')\n",
    "top_10_rows"
   ]
  }
 ],
 "metadata": {
  "kernelspec": {
   "display_name": "base",
   "language": "python",
   "name": "python3"
  },
  "language_info": {
   "codemirror_mode": {
    "name": "ipython",
    "version": 3
   },
   "file_extension": ".py",
   "mimetype": "text/x-python",
   "name": "python",
   "nbconvert_exporter": "python",
   "pygments_lexer": "ipython3",
   "version": "3.11.4"
  }
 },
 "nbformat": 4,
 "nbformat_minor": 2
}
