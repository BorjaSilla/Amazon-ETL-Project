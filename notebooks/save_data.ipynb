{
 "cells": [
  {
   "cell_type": "code",
   "execution_count": 3,
   "metadata": {},
   "outputs": [
    {
     "name": "stdout",
     "output_type": "stream",
     "text": [
      "Data from ../scrape_data/master/master.csv.csv has been successfully inserted into amazon-etl.top100bycategory in MongoDB.\n"
     ]
    }
   ],
   "source": [
    "import pandas as pd\n",
    "from pymongo import MongoClient\n",
    "\n",
    "# Connection settings for MongoDB\n",
    "mongo_uri = \"mongodb://localhost:27017\"  \n",
    "database_name = \"amazon-etl\" \n",
    "collection_name = \"top100bycategory\"\n",
    "\n",
    "# CSV file to import\n",
    "csv_file = \"../scrape_data/master/master.csv.csv\" \n",
    "\n",
    "# Read the CSV file into a Pandas DataFrame\n",
    "data = pd.read_csv('../scrape_data/master/master.csv')\n",
    "\n",
    "# Connect to MongoDB\n",
    "client = MongoClient(mongo_uri)\n",
    "db = client[database_name]\n",
    "collection = db[collection_name]\n",
    "\n",
    "# Convert the DataFrame to a list of dictionaries (one dictionary per row)\n",
    "data_dict = data.to_dict(orient='records')\n",
    "\n",
    "# Insert the data into MongoDB\n",
    "collection.insert_many(data_dict)\n",
    "\n",
    "\n",
    "client.close()\n",
    "\n",
    "print(f\"Data from {csv_file} has been successfully inserted into {database_name}.{collection_name} in MongoDB.\")"
   ]
  }
 ],
 "metadata": {
  "kernelspec": {
   "display_name": "base",
   "language": "python",
   "name": "python3"
  },
  "language_info": {
   "codemirror_mode": {
    "name": "ipython",
    "version": 3
   },
   "file_extension": ".py",
   "mimetype": "text/x-python",
   "name": "python",
   "nbconvert_exporter": "python",
   "pygments_lexer": "ipython3",
   "version": "3.11.4"
  }
 },
 "nbformat": 4,
 "nbformat_minor": 2
}
